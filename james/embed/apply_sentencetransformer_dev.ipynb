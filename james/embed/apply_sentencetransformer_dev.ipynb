{
 "cells": [
  {
   "cell_type": "code",
   "execution_count": 5,
   "metadata": {},
   "outputs": [],
   "source": [
    "import os\n",
    "import time\n",
    "\n",
    "import pandas as pd\n",
    "import torch\n",
    "import tqdm\n",
    "import numpy as np\n",
    "\n",
    "from sentence_transformers import SentenceTransformer"
   ]
  },
  {
   "cell_type": "code",
   "execution_count": 6,
   "metadata": {},
   "outputs": [],
   "source": [
    "query_dev = pd.read_csv(\"./data/top1000/top1000.dev.inputs.tsv\", header=None, sep=\"\\t\", index_col=0, names=[\"query\"])\n",
    "model = SentenceTransformer(\"all-MiniLM-L6-v2\").cuda()"
   ]
  },
  {
   "cell_type": "code",
   "execution_count": 7,
   "metadata": {},
   "outputs": [],
   "source": [
    "def do_embedding(model, series, batch_size=128):\n",
    "  embeddings = []\n",
    "  n = len(series)\n",
    "  start = time.time()\n",
    "  for i in tqdm.tqdm(range((n + (batch_size-1)) // batch_size)):\n",
    "    a, b = batch_size*i, min(n, batch_size*(i+1))\n",
    "    embedding_i = model.encode(series[a:b].tolist())\n",
    "    embeddings.append(embedding_i)\n",
    "  end = time.time()\n",
    "  print(f\"Time Taken: {(end-start):0.4f} s\")\n",
    "  return np.vstack(embeddings), end-start"
   ]
  },
  {
   "cell_type": "code",
   "execution_count": 8,
   "metadata": {},
   "outputs": [
    {
     "name": "stderr",
     "output_type": "stream",
     "text": [
      "100%|██████████| 55/55 [00:01<00:00, 48.77it/s]\n"
     ]
    },
    {
     "name": "stdout",
     "output_type": "stream",
     "text": [
      "Time Taken: 1.1299 s\n",
      "query_time=1.129906415939331\n",
      "query_embeddings.shape=(6980, 384)\n",
      "query_embeddings.dtype=dtype('float32')\n"
     ]
    }
   ],
   "source": [
    "query_embeddings, query_time = do_embedding(model, query_dev[\"query\"], batch_size=128)\n",
    "print(f\"{query_time=}\")\n",
    "print(f\"{query_embeddings.shape=}\")\n",
    "print(f\"{query_embeddings.dtype=}\")\n",
    "output = \"data/results/baseline\"\n",
    "os.makedirs(output, exist_ok=True)\n",
    "np.save(os.path.join(output, \"query_embeddings_6980.npy\"), query_embeddings)"
   ]
  }
 ],
 "metadata": {
  "kernelspec": {
   "display_name": "mlsys",
   "language": "python",
   "name": "python3"
  },
  "language_info": {
   "codemirror_mode": {
    "name": "ipython",
    "version": 3
   },
   "file_extension": ".py",
   "mimetype": "text/x-python",
   "name": "python",
   "nbconvert_exporter": "python",
   "pygments_lexer": "ipython3",
   "version": "3.9.19"
  }
 },
 "nbformat": 4,
 "nbformat_minor": 2
}
