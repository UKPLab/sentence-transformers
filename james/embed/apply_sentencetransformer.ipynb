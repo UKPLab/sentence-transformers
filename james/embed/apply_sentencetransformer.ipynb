{
 "cells": [
  {
   "cell_type": "code",
   "execution_count": 4,
   "metadata": {},
   "outputs": [
    {
     "name": "stderr",
     "output_type": "stream",
     "text": [
      "/home/jjzhao2/miniconda3/envs/mlsys/lib/python3.9/site-packages/tqdm/auto.py:21: TqdmWarning: IProgress not found. Please update jupyter and ipywidgets. See https://ipywidgets.readthedocs.io/en/stable/user_install.html\n",
      "  from .autonotebook import tqdm as notebook_tqdm\n"
     ]
    }
   ],
   "source": [
    "import os\n",
    "import time\n",
    "\n",
    "import pandas as pd\n",
    "import torch\n",
    "import tqdm\n",
    "import numpy as np\n",
    "\n",
    "from sentence_transformers import SentenceTransformer"
   ]
  },
  {
   "cell_type": "code",
   "execution_count": 6,
   "metadata": {},
   "outputs": [],
   "source": [
    "query_dev = pd.read_csv(\"./data/queries/queries.dev.tsv\", header=None, sep=\"\\t\", index_col=0, names=[\"query\"])\n",
    "collection = pd.read_csv(\"./data/collection/collection.tsv\", header=None, sep=\"\\t\", index_col=0, names=[\"passage\"])"
   ]
  },
  {
   "cell_type": "code",
   "execution_count": 7,
   "metadata": {},
   "outputs": [],
   "source": [
    "model = SentenceTransformer(\"all-MiniLM-L6-v2\").cuda()"
   ]
  },
  {
   "cell_type": "code",
   "execution_count": 8,
   "metadata": {},
   "outputs": [],
   "source": [
    "def do_embedding(model, series, batch_size=128):\n",
    "  embeddings = []\n",
    "  n = len(series)\n",
    "  start = time.time()\n",
    "  for i in tqdm.tqdm(range((n + (batch_size-1)) // batch_size)):\n",
    "    a, b = batch_size*i, min(n, batch_size*(i+1))\n",
    "    embedding_i = model.encode(series[a:b].tolist())\n",
    "    embeddings.append(embedding_i)\n",
    "  end = time.time()\n",
    "  print(f\"Time Taken: {(end-start):0.4f} s\")\n",
    "  return np.vstack(embeddings), end-start"
   ]
  },
  {
   "cell_type": "code",
   "execution_count": 9,
   "metadata": {},
   "outputs": [
    {
     "name": "stderr",
     "output_type": "stream",
     "text": [
      "100%|██████████| 790/790 [00:19<00:00, 39.92it/s]\n"
     ]
    },
    {
     "name": "stdout",
     "output_type": "stream",
     "text": [
      "Time Taken: 19.7931 s\n"
     ]
    },
    {
     "name": "stderr",
     "output_type": "stream",
     "text": [
      "100%|██████████| 790/790 [00:51<00:00, 15.38it/s]\n"
     ]
    },
    {
     "name": "stdout",
     "output_type": "stream",
     "text": [
      "Time Taken: 51.3555 s\n",
      "query_time=19.793142557144165 collection_time=51.35547161102295\n",
      "query_embeddings.shape=(101093, 384) collection_embeddings.shape=(101093, 384)\n"
     ]
    }
   ],
   "source": [
    "query_embeddings, query_time = do_embedding(model, query_dev[\"query\"], batch_size=128)\n",
    "collection_embeddings, collection_time = do_embedding(model, collection[\"passage\"], batch_size=128)\n",
    "print(f\"{query_time=} {collection_time=}\")\n",
    "print(f\"{query_embeddings.shape=} {collection_embeddings.shape=}\")\n",
    "print(f\"{query_embeddings.dtype=} {collection_embeddings.dtype=}\")"
   ]
  },
  {
   "cell_type": "code",
   "execution_count": 10,
   "metadata": {},
   "outputs": [],
   "source": [
    "output = \"data/results/baseline\"\n",
    "os.makedirs(output, exist_ok=True)\n",
    "np.save(os.path.join(output, \"query_embeddings.npy\"), query_embeddings)\n",
    "np.save(os.path.join(output, \"collection_embeddings.npy\"), query_embeddings)"
   ]
  }
 ],
 "metadata": {
  "kernelspec": {
   "display_name": "mlsys",
   "language": "python",
   "name": "python3"
  },
  "language_info": {
   "codemirror_mode": {
    "name": "ipython",
    "version": 3
   },
   "file_extension": ".py",
   "mimetype": "text/x-python",
   "name": "python",
   "nbconvert_exporter": "python",
   "pygments_lexer": "ipython3",
   "version": "3.9.19"
  }
 },
 "nbformat": 4,
 "nbformat_minor": 2
}
