{
 "cells": [
  {
   "cell_type": "code",
   "execution_count": null,
   "metadata": {},
   "outputs": [],
   "source": [
    "import pandas as pd\n",
    "import os"
   ]
  },
  {
   "cell_type": "code",
   "execution_count": null,
   "metadata": {},
   "outputs": [],
   "source": [
    "collection  = pd.read_csv(\"./data/collection/collection.tsv\", header=None, sep=\"\\t\", index_col=0, names=[\"passage\"])\n",
    "query_dev   = pd.read_csv(\"./data/queries/queries.dev.tsv\", header=None, sep=\"\\t\", index_col=0, names=[\"query\"])"
   ]
  }
 ],
 "metadata": {
  "language_info": {
   "name": "python"
  }
 },
 "nbformat": 4,
 "nbformat_minor": 2
}
