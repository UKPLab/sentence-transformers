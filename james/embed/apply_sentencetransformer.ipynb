{
 "cells": [
  {
   "cell_type": "code",
   "execution_count": 22,
   "metadata": {},
   "outputs": [],
   "source": [
    "import os\n",
    "import time\n",
    "\n",
    "import pandas as pd\n",
    "import torch\n",
    "import tqdm\n",
    "import numpy as np\n",
    "\n",
    "from sentence_transformers import SentenceTransformer"
   ]
  },
  {
   "cell_type": "code",
   "execution_count": 2,
   "metadata": {},
   "outputs": [
    {
     "data": {
      "text/html": [
       "<div>\n",
       "<style scoped>\n",
       "    .dataframe tbody tr th:only-of-type {\n",
       "        vertical-align: middle;\n",
       "    }\n",
       "\n",
       "    .dataframe tbody tr th {\n",
       "        vertical-align: top;\n",
       "    }\n",
       "\n",
       "    .dataframe thead th {\n",
       "        text-align: right;\n",
       "    }\n",
       "</style>\n",
       "<table border=\"1\" class=\"dataframe\">\n",
       "  <thead>\n",
       "    <tr style=\"text-align: right;\">\n",
       "      <th></th>\n",
       "      <th>query</th>\n",
       "    </tr>\n",
       "  </thead>\n",
       "  <tbody>\n",
       "    <tr>\n",
       "      <th>1048578</th>\n",
       "      <td>cost of endless pools/swim spa</td>\n",
       "    </tr>\n",
       "    <tr>\n",
       "      <th>1048579</th>\n",
       "      <td>what is pcnt</td>\n",
       "    </tr>\n",
       "    <tr>\n",
       "      <th>1048580</th>\n",
       "      <td>what is pcb waste</td>\n",
       "    </tr>\n",
       "    <tr>\n",
       "      <th>1048581</th>\n",
       "      <td>what is pbis?</td>\n",
       "    </tr>\n",
       "    <tr>\n",
       "      <th>1048582</th>\n",
       "      <td>what is paysky</td>\n",
       "    </tr>\n",
       "    <tr>\n",
       "      <th>...</th>\n",
       "      <td>...</td>\n",
       "    </tr>\n",
       "    <tr>\n",
       "      <th>480594</th>\n",
       "      <td>price of copper by ounce, pound</td>\n",
       "    </tr>\n",
       "    <tr>\n",
       "      <th>524271</th>\n",
       "      <td>trazodone for dogs side effects</td>\n",
       "    </tr>\n",
       "    <tr>\n",
       "      <th>1048565</th>\n",
       "      <td>who plays sebastian michaelis</td>\n",
       "    </tr>\n",
       "    <tr>\n",
       "      <th>1048570</th>\n",
       "      <td>what is pearls before swine?</td>\n",
       "    </tr>\n",
       "    <tr>\n",
       "      <th>524285</th>\n",
       "      <td>treadmill incline meaning</td>\n",
       "    </tr>\n",
       "  </tbody>\n",
       "</table>\n",
       "<p>101093 rows × 1 columns</p>\n",
       "</div>"
      ],
      "text/plain": [
       "                                   query\n",
       "1048578   cost of endless pools/swim spa\n",
       "1048579                     what is pcnt\n",
       "1048580                what is pcb waste\n",
       "1048581                    what is pbis?\n",
       "1048582                   what is paysky\n",
       "...                                  ...\n",
       "480594   price of copper by ounce, pound\n",
       "524271   trazodone for dogs side effects\n",
       "1048565    who plays sebastian michaelis\n",
       "1048570     what is pearls before swine?\n",
       "524285         treadmill incline meaning\n",
       "\n",
       "[101093 rows x 1 columns]"
      ]
     },
     "execution_count": 2,
     "metadata": {},
     "output_type": "execute_result"
    }
   ],
   "source": [
    "query_dev = pd.read_csv(\"./data/queries/queries.dev.tsv\", header=None, sep=\"\\t\", index_col=0, names=[\"query\"])\n",
    "query_dev"
   ]
  },
  {
   "cell_type": "code",
   "execution_count": 3,
   "metadata": {},
   "outputs": [],
   "source": [
    "model = SentenceTransformer(\"all-MiniLM-L6-v2\").cuda()"
   ]
  },
  {
   "cell_type": "code",
   "execution_count": 6,
   "metadata": {},
   "outputs": [],
   "source": [
    "embeddings = model.encode([\"a b c d\"])"
   ]
  },
  {
   "cell_type": "code",
   "execution_count": 33,
   "metadata": {},
   "outputs": [
    {
     "name": "stderr",
     "output_type": "stream",
     "text": [
      "100%|██████████| 790/790 [00:16<00:00, 48.83it/s]"
     ]
    },
    {
     "name": "stdout",
     "output_type": "stream",
     "text": [
      "Time Taken: 16.1815 s\n"
     ]
    },
    {
     "name": "stderr",
     "output_type": "stream",
     "text": [
      "\n"
     ]
    }
   ],
   "source": [
    "embeddings = []\n",
    "batch_size, n = 128, len(query_dev)\n",
    "start = time.time()\n",
    "for i in tqdm.tqdm(range((n + (batch_size-1)) // batch_size)):\n",
    "  a, b = batch_size*i, min(n, batch_size*(i+1))\n",
    "  embedding_i = model.encode(query_dev[\"query\"][a:b].tolist())\n",
    "  embeddings.append(embedding_i)\n",
    "print(f\"Time Taken: {(time.time()-start):0.4f} s\")"
   ]
  },
  {
   "cell_type": "code",
   "execution_count": 35,
   "metadata": {},
   "outputs": [
    {
     "data": {
      "text/plain": [
       "(101093, 384)"
      ]
     },
     "execution_count": 35,
     "metadata": {},
     "output_type": "execute_result"
    }
   ],
   "source": [
    "embeddings_stacked = np.vstack(embeddings)\n",
    "embeddings_stacked.shape"
   ]
  },
  {
   "cell_type": "code",
   "execution_count": 38,
   "metadata": {},
   "outputs": [],
   "source": [
    "output = \"data/embeddings/baseline/embeddings.npy\"\n",
    "os.makedirs(os.path.dirname(output), exist_ok=True)\n",
    "np.save(output, embeddings_stacked)"
   ]
  }
 ],
 "metadata": {
  "kernelspec": {
   "display_name": "mlsys",
   "language": "python",
   "name": "python3"
  },
  "language_info": {
   "codemirror_mode": {
    "name": "ipython",
    "version": 3
   },
   "file_extension": ".py",
   "mimetype": "text/x-python",
   "name": "python",
   "nbconvert_exporter": "python",
   "pygments_lexer": "ipython3",
   "version": "3.9.19"
  }
 },
 "nbformat": 4,
 "nbformat_minor": 2
}
