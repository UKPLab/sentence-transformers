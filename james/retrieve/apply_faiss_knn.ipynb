{
 "cells": [
  {
   "cell_type": "markdown",
   "metadata": {},
   "source": [
    "# Faiss KNN\n",
    "\n",
    "use faiss-cpu"
   ]
  },
  {
   "cell_type": "code",
   "execution_count": 1,
   "metadata": {},
   "outputs": [],
   "source": [
    "import os, numpy as np, faiss\n",
    "import time"
   ]
  },
  {
   "cell_type": "code",
   "execution_count": 2,
   "metadata": {},
   "outputs": [],
   "source": [
    "residing_folder = \"./data/results/baseline\"\n",
    "collection_file = \"collection_embeddings.npy\"\n",
    "query_file = \"query_embeddings.npy\"\n",
    "output_file = \"knn.npy\"\n",
    "k = 1000 # knn\n",
    "nlist = 10000 # typically 4 * sqrt(n)\n",
    "nprobe = 100 # typically arbitrary\n",
    "d = 384"
   ]
  },
  {
   "cell_type": "code",
   "execution_count": 3,
   "metadata": {},
   "outputs": [],
   "source": [
    "corpus_embeddings = np.load(os.path.join(residing_folder, collection_file))\n",
    "query_embeddings = np.load(os.path.join(residing_folder, query_file))\n",
    "print(f\"{corpus_embeddings.shape=}\")\n",
    "print(f\"{query_embeddings.shape=}\")"
   ]
  },
  {
   "cell_type": "code",
   "execution_count": null,
   "metadata": {},
   "outputs": [
    {
     "name": "stderr",
     "output_type": "stream",
     "text": [
      "WARNING clustering 101093 points to 10000 centroids: please provide at least 390000 training points\n"
     ]
    },
    {
     "name": "stdout",
     "output_type": "stream",
     "text": [
      "Time to train: 180.37 s\n",
      "Time to search: 6.78 s\n"
     ]
    }
   ],
   "source": [
    "quantizer = faiss.IndexFlatIP(d)\n",
    "cpu_index = faiss.IndexIVFFlat(quantizer, d, nlist)\n",
    "a = time.time()\n",
    "cpu_index.train(corpus_embeddings)\n",
    "cpu_index.add(corpus_embeddings)\n",
    "b = time.time()\n",
    "print(f\"Time to train: {(b-a):0.2f} s\")"
   ]
  },
  {
   "cell_type": "code",
   "execution_count": null,
   "metadata": {},
   "outputs": [
    {
     "name": "stdout",
     "output_type": "stream",
     "text": [
      "Time to search: 15.12 s\n"
     ]
    }
   ],
   "source": [
    "cpu_index.nprobe = nprobe\n",
    "a = time.time()\n",
    "D, I = cpu_index.search(query_embeddings, k)\n",
    "b = time.time()\n",
    "print(f\"Time to search: {(b - a):0.2f} s\")"
   ]
  },
  {
   "cell_type": "code",
   "execution_count": null,
   "metadata": {},
   "outputs": [],
   "source": [
    "np.save(os.path.join(residing_folder, output_file), I)"
   ]
  }
 ],
 "metadata": {
  "kernelspec": {
   "display_name": "mlsys",
   "language": "python",
   "name": "python3"
  },
  "language_info": {
   "codemirror_mode": {
    "name": "ipython",
    "version": 3
   },
   "file_extension": ".py",
   "mimetype": "text/x-python",
   "name": "python",
   "nbconvert_exporter": "python",
   "pygments_lexer": "ipython3",
   "version": "3.9.19"
  }
 },
 "nbformat": 4,
 "nbformat_minor": 2
}
