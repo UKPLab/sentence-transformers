{
 "cells": [
  {
   "cell_type": "code",
   "execution_count": 1,
   "metadata": {},
   "outputs": [],
   "source": [
    "%load_ext autoreload\n",
    "%autoreload 2"
   ]
  },
  {
   "cell_type": "code",
   "execution_count": 2,
   "metadata": {},
   "outputs": [],
   "source": [
    "import os\n",
    "\n",
    "import numpy as np\n",
    "import pandas as pd\n",
    "import tqdm\n",
    "\n",
    "from james.msmarco.ms_marco_eval import load_reference, compute_metrics_james_zhao"
   ]
  },
  {
   "cell_type": "code",
   "execution_count": 3,
   "metadata": {},
   "outputs": [],
   "source": [
    "residing_folder = \"./data/results/baseline\"\n",
    "knn_index_file = \"knn.npy\"\n",
    "output_file = \"inference.tsv\""
   ]
  },
  {
   "cell_type": "code",
   "execution_count": 8,
   "metadata": {},
   "outputs": [
    {
     "name": "stdout",
     "output_type": "stream",
     "text": [
      "len(inference_dev_ids)=55578, len(knn_results)=55578\n"
     ]
    },
    {
     "data": {
      "text/html": [
       "<div>\n",
       "<style scoped>\n",
       "    .dataframe tbody tr th:only-of-type {\n",
       "        vertical-align: middle;\n",
       "    }\n",
       "\n",
       "    .dataframe tbody tr th {\n",
       "        vertical-align: top;\n",
       "    }\n",
       "\n",
       "    .dataframe thead th {\n",
       "        text-align: right;\n",
       "    }\n",
       "</style>\n",
       "<table border=\"1\" class=\"dataframe\">\n",
       "  <thead>\n",
       "    <tr style=\"text-align: right;\">\n",
       "      <th></th>\n",
       "      <th>qid</th>\n",
       "      <th>query</th>\n",
       "    </tr>\n",
       "  </thead>\n",
       "  <tbody>\n",
       "    <tr>\n",
       "      <th>0</th>\n",
       "      <td>1102432</td>\n",
       "      <td>. what is a corporation?</td>\n",
       "    </tr>\n",
       "    <tr>\n",
       "      <th>1</th>\n",
       "      <td>1102431</td>\n",
       "      <td>why did rachel carson write an obligation to e...</td>\n",
       "    </tr>\n",
       "    <tr>\n",
       "      <th>2</th>\n",
       "      <td>1090282</td>\n",
       "      <td>symptoms of a dying mouse</td>\n",
       "    </tr>\n",
       "    <tr>\n",
       "      <th>3</th>\n",
       "      <td>39449</td>\n",
       "      <td>average number of lightning strikes per day</td>\n",
       "    </tr>\n",
       "    <tr>\n",
       "      <th>4</th>\n",
       "      <td>76162</td>\n",
       "      <td>can you burn your lawn with fertilizer</td>\n",
       "    </tr>\n",
       "  </tbody>\n",
       "</table>\n",
       "</div>"
      ],
      "text/plain": [
       "       qid                                              query\n",
       "0  1102432                           . what is a corporation?\n",
       "1  1102431  why did rachel carson write an obligation to e...\n",
       "2  1090282                          symptoms of a dying mouse\n",
       "3    39449        average number of lightning strikes per day\n",
       "4    76162             can you burn your lawn with fertilizer"
      ]
     },
     "execution_count": 8,
     "metadata": {},
     "output_type": "execute_result"
    }
   ],
   "source": [
    "inference_dev_ids = pd.read_csv(\"./data/qrels/qrels_with_text.tsv\", header=None, sep=\"\\t\", names=[\"qid\", \"query\"])\n",
    "knn_results = np.load(os.path.join(residing_folder, knn_index_file))\n",
    "print(f\"{len(inference_dev_ids)=}, {len(knn_results)=}\")\n",
    "inference_dev_ids.head()"
   ]
  },
  {
   "cell_type": "code",
   "execution_count": 10,
   "metadata": {},
   "outputs": [],
   "source": [
    "# qid to ranked ids\n",
    "inference = {}\n",
    "for qid, knn_row in zip(inference_dev_ids[\"qid\"], knn_results):\n",
    "  inference[qid]= knn_row.tolist()\n",
    "reference = load_reference(\"./data/qrels/qrels.dev.tsv\")\n",
    "assert(set(inference.keys())==set(reference.keys()))"
   ]
  },
  {
   "cell_type": "code",
   "execution_count": 12,
   "metadata": {},
   "outputs": [],
   "source": [
    "scores, ranking = compute_metrics_james_zhao(\n",
    "  qids_to_relevant_passageids=reference,\n",
    "  qids_to_ranked_candidate_passages=inference,\n",
    "  max_mrr_rank=1000,\n",
    ")"
   ]
  },
  {
   "cell_type": "code",
   "execution_count": 14,
   "metadata": {},
   "outputs": [
    {
     "name": "stdout",
     "output_type": "stream",
     "text": [
      "{'MRR @1000': 0.30519164437672375, 'QueriesRanked': 55578}\n"
     ]
    }
   ],
   "source": [
    "print(scores)"
   ]
  }
 ],
 "metadata": {
  "kernelspec": {
   "display_name": "mlsys",
   "language": "python",
   "name": "python3"
  },
  "language_info": {
   "codemirror_mode": {
    "name": "ipython",
    "version": 3
   },
   "file_extension": ".py",
   "mimetype": "text/x-python",
   "name": "python",
   "nbconvert_exporter": "python",
   "pygments_lexer": "ipython3",
   "version": "3.9.19"
  }
 },
 "nbformat": 4,
 "nbformat_minor": 2
}
