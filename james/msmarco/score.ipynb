{
 "cells": [
  {
   "cell_type": "code",
   "execution_count": 1,
   "metadata": {},
   "outputs": [],
   "source": [
    "%load_ext autoreload\n",
    "%autoreload 2"
   ]
  },
  {
   "cell_type": "code",
   "execution_count": 2,
   "metadata": {},
   "outputs": [],
   "source": [
    "import os\n",
    "\n",
    "import numpy as np\n",
    "import pandas as pd\n",
    "import tqdm\n",
    "\n",
    "from james.msmarco.ms_marco_eval import load_reference, compute_metrics_james_zhao"
   ]
  },
  {
   "cell_type": "code",
   "execution_count": 3,
   "metadata": {},
   "outputs": [],
   "source": [
    "residing_folder = \"./data/results/baseline\"\n",
    "knn_index_file = \"knn.npy\"\n",
    "output_file = \"inference.tsv\""
   ]
  },
  {
   "cell_type": "code",
   "execution_count": 4,
   "metadata": {},
   "outputs": [],
   "source": [
    "top1000_dev_ids = pd.read_csv(\"./data/top1000/top1000.dev.ids.tsv\", header=None, sep=\"\\t\", names=[\"qid\", \"pid\"])\n",
    "top1000_dev_inputs = pd.read_csv(\"./data/top1000/top1000.dev.inputs.tsv\", header=None, sep=\"\\t\", names=[\"qid\", \"query\"])\n",
    "knn_results = np.load(os.path.join(residing_folder, knn_index_file))"
   ]
  },
  {
   "cell_type": "code",
   "execution_count": 5,
   "metadata": {},
   "outputs": [
    {
     "name": "stdout",
     "output_type": "stream",
     "text": [
      "len(top1000_dev_ids)=6668967, len(top1000_dev_inputs)=6980, len(knn_results)=6980\n"
     ]
    }
   ],
   "source": [
    "print(f\"{len(top1000_dev_ids)=}, {len(top1000_dev_inputs)=}, {len(knn_results)=}\")"
   ]
  },
  {
   "cell_type": "code",
   "execution_count": 6,
   "metadata": {},
   "outputs": [],
   "source": [
    "# qid to ranked ids\n",
    "inference = {}\n",
    "for qid, knn_row in zip(top1000_dev_inputs[\"qid\"], knn_results):\n",
    "  inference[qid]= knn_row.tolist()"
   ]
  },
  {
   "cell_type": "code",
   "execution_count": 29,
   "metadata": {},
   "outputs": [],
   "source": [
    "qrels = pd.read_csv(\"./data/qrels/qrels.dev.tsv\", header=None, sep=\"\\t\", names=[\"qid\", \"iteration_num\", \"pid\", \"relevance\"])\n",
    "reference = {}\n",
    "for qid, pid in qrels[[\"qid\", \"pid\"]].iterrows():\n",
    "  if qid not in reference:\n",
    "    reference[qid] = []\n",
    "  if pid in reference[qid]:\n",
    "    print(f\"ERROR, {qid=}, {pid=}\")\n",
    "  reference[qid].append(pid)"
   ]
  },
  {
   "cell_type": "code",
   "execution_count": 22,
   "metadata": {},
   "outputs": [],
   "source": [
    "qid0 = top1000_dev_inputs[\"qid\"][0]\n",
    "first_result = knn_results[0][0]\n",
    "reference0 = reference[qid0]"
   ]
  },
  {
   "cell_type": "code",
   "execution_count": 24,
   "metadata": {},
   "outputs": [],
   "source": [
    "scores, ranking = compute_metrics_james_zhao(\n",
    "  qids_to_relevant_passageids=reference,\n",
    "  qids_to_ranked_candidate_passages=inference,\n",
    "  max_mrr_rank=10,\n",
    ")"
   ]
  },
  {
   "cell_type": "code",
   "execution_count": 25,
   "metadata": {},
   "outputs": [
    {
     "name": "stdout",
     "output_type": "stream",
     "text": [
      "Counter({1: 5886, 2: 479, 3: 182, 0: 171, 4: 99, 6: 46, 5: 45, 7: 26, 8: 21, 9: 14, 10: 11})\n"
     ]
    }
   ],
   "source": [
    "from collections import Counter\n",
    "print(Counter(ranking))"
   ]
  },
  {
   "cell_type": "code",
   "execution_count": 26,
   "metadata": {},
   "outputs": [
    {
     "name": "stdout",
     "output_type": "stream",
     "text": [
      "{'MRR @10': 0.8934925751580456, 'QueriesRanked': 6980}\n"
     ]
    }
   ],
   "source": [
    "print(scores)"
   ]
  }
 ],
 "metadata": {
  "kernelspec": {
   "display_name": "mlsys",
   "language": "python",
   "name": "python3"
  },
  "language_info": {
   "codemirror_mode": {
    "name": "ipython",
    "version": 3
   },
   "file_extension": ".py",
   "mimetype": "text/x-python",
   "name": "python",
   "nbconvert_exporter": "python",
   "pygments_lexer": "ipython3",
   "version": "3.9.19"
  }
 },
 "nbformat": 4,
 "nbformat_minor": 2
}
