{
 "cells": [
  {
   "cell_type": "code",
   "execution_count": 1,
   "metadata": {},
   "outputs": [],
   "source": [
    "import os\n",
    "\n",
    "import numpy as np\n",
    "import pandas as pd\n",
    "import tqdm\n",
    "\n",
    "from james.msmarco.ms_marco_eval import compute_metrics, load_reference"
   ]
  },
  {
   "cell_type": "code",
   "execution_count": 2,
   "metadata": {},
   "outputs": [],
   "source": [
    "residing_folder = \"./data/results/baseline\"\n",
    "knn_index_file = \"knn.npy\"\n",
    "output_file = \"inference.tsv\""
   ]
  },
  {
   "cell_type": "code",
   "execution_count": 3,
   "metadata": {},
   "outputs": [],
   "source": [
    "query_dev = pd.read_csv(\"./data/queries/queries.dev.tsv\", header=None, sep=\"\\t\", index_col=0, names=[\"query\"])\n",
    "top1000_dev = pd.read_csv(\"./data/top1000/top1000.dev.ids.tsv\", header=None, sep=\"\\t\", names=[\"qid\", \"pid\"])\n",
    "knn_results = np.load(os.path.join(residing_folder, knn_index_file))"
   ]
  },
  {
   "cell_type": "code",
   "execution_count": 4,
   "metadata": {},
   "outputs": [
    {
     "name": "stdout",
     "output_type": "stream",
     "text": [
      "len(query_dev)=101093, len(top1000_dev)=6668967 len(knn_results)=101093\n"
     ]
    }
   ],
   "source": [
    "print(f\"{len(query_dev)=}, {len(top1000_dev)=} {len(knn_results)=}\")"
   ]
  },
  {
   "cell_type": "code",
   "execution_count": 12,
   "metadata": {},
   "outputs": [],
   "source": [
    "inference = {}\n",
    "for i, v in tqdm.tqdm(enumerate(query_dev.index)):\n",
    "  relevant_docs = knn_results[i]\n",
    "  inference[v] = relevant_docs.tolist()"
   ]
  },
  {
   "cell_type": "code",
   "execution_count": 5,
   "metadata": {},
   "outputs": [],
   "source": [
    "reference = load_reference(\"./data/top1000/top1000.dev.ids.tsv\")"
   ]
  },
  {
   "cell_type": "code",
   "execution_count": 10,
   "metadata": {},
   "outputs": [],
   "source": [
    "query_dev_index = set(query_dev.index)\n",
    "for k in reference.keys():\n",
    "  if k not in query_dev_index:\n",
    "    print(\"nani\")"
   ]
  }
 ],
 "metadata": {
  "kernelspec": {
   "display_name": "mlsys",
   "language": "python",
   "name": "python3"
  },
  "language_info": {
   "codemirror_mode": {
    "name": "ipython",
    "version": 3
   },
   "file_extension": ".py",
   "mimetype": "text/x-python",
   "name": "python",
   "nbconvert_exporter": "python",
   "pygments_lexer": "ipython3",
   "version": "3.9.19"
  }
 },
 "nbformat": 4,
 "nbformat_minor": 2
}
