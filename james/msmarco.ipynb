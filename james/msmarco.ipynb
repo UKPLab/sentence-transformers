{
 "cells": [
  {
   "cell_type": "code",
   "execution_count": 4,
   "metadata": {},
   "outputs": [
    {
     "name": "stdout",
     "output_type": "stream",
     "text": [
      "== collection ==\n",
      "0\tThe presence of communication amid scientific minds was equally important to the success of the Manhattan Project as scientific intellect was. The only cloud hanging over the impressive achievement of the atomic researchers and engineers is what their success truly meant; hundreds of thousands of innocent lives obliterated.\n",
      "1\tThe Manhattan Project and its atomic bomb helped bring an end to World War II. Its legacy of peaceful uses of atomic energy continues to have an impact on history and science.\n",
      "== queries ==\n",
      "121352\tdefine extreme\n",
      "634306\twhat does chattel mean on credit history\n",
      "== top1000 ==\n",
      "188714\t1000052\tfoods and supplements to lower blood sugar\tWatch portion sizes: ■ Even healthy foods will cause high blood sugar if you eat too much. ■ Make sure each of your meals has the same amount of CHOs. Avoid foods high in sugar: ■ Some foods to avoid: sugar, honey, candies, syrup, cakes, cookies, regular soda and.\n",
      "1082792\t1000084\twhat does the golgi apparatus do to the proteins and lipids once they arrive ?\tStart studying Bonding, Carbs, Proteins, Lipids. Learn vocabulary, terms, and more with flashcards, games, and other study tools.\n"
     ]
    }
   ],
   "source": [
    "!echo \"== collection ==\"\n",
    "!head -n 2 data/collection/collection.tsv\n",
    "!echo \"== queries ==\"\n",
    "!head -n 2 data/queries/queries.train.tsv\n",
    "!echo \"== top1000 ==\"\n",
    "!head -n 2 data/top1000/top1000.dev.tsv\n",
    "\n",
    "# https://microsoft.github.io/msmarco/Submission"
   ]
  },
  {
   "cell_type": "code",
   "execution_count": 2,
   "metadata": {},
   "outputs": [],
   "source": [
    "import pandas as pd\n",
    "import os"
   ]
  },
  {
   "cell_type": "code",
   "execution_count": 10,
   "metadata": {},
   "outputs": [],
   "source": [
    "collection  = pd.read_csv(\"./data/collection/collection.tsv\", header=None, sep=\"\\t\", index_col=0, names=[\"passage\"])\n",
    "query_train = pd.read_csv(\"./data/queries/queries.train.tsv\", header=None, sep=\"\\t\", index_col=0, names=[\"query\"])\n",
    "query_eval  = pd.read_csv(\"./data/queries/queries.eval.tsv\", header=None, sep=\"\\t\", index_col=0, names=[\"query\"])\n",
    "query_dev   = pd.read_csv(\"./data/queries/queries.dev.tsv\", header=None, sep=\"\\t\", index_col=0, names=[\"query\"])"
   ]
  },
  {
   "cell_type": "code",
   "execution_count": 2,
   "metadata": {},
   "outputs": [
    {
     "name": "stdout",
     "output_type": "stream",
     "text": [
      "6668967\n"
     ]
    }
   ],
   "source": [
    "top1000_dev = pd.read_csv(\"./data/top1000/top1000.dev.tsv\", header=None, sep=\"\\t\", names=[\"qid\", \"pid\", \"query\", \"passage\"])\n",
    "print(len(top1000_dev))"
   ]
  },
  {
   "cell_type": "code",
   "execution_count": 3,
   "metadata": {},
   "outputs": [
    {
     "name": "stdout",
     "output_type": "stream",
     "text": [
      "== top1000.ids ==\n",
      "188714\t1000052\n",
      "1082792\t1000084\n"
     ]
    }
   ],
   "source": [
    "if not os.path.exists(\"./data/top1000/top1000.dev.ids.tsv\"):\n",
    "  t = top1000_dev.drop(columns=[\"query\", \"passage\"])\n",
    "  t.to_csv(\"./data/top1000/top1000.dev.ids.tsv\", header=None, sep=\"\\t\", index=None)\n",
    "!echo \"== top1000.ids ==\"\n",
    "!head -n 2 data/top1000/top1000.dev.ids.tsv"
   ]
  },
  {
   "cell_type": "code",
   "execution_count": 7,
   "metadata": {},
   "outputs": [
    {
     "name": "stdout",
     "output_type": "stream",
     "text": [
      "6980\n",
      "== top1000.dev.inputs ==\n",
      "188714\tfoods and supplements to lower blood sugar\n",
      "1082792\twhat does the golgi apparatus do to the proteins and lipids once they arrive ?\n"
     ]
    }
   ],
   "source": [
    "df2 = top1000_dev.drop(columns=[\"pid\", \"passage\"]).drop_duplicates()\n",
    "print(len(df2))\n",
    "if not os.path.exists(\"./data/top1000/top1000.dev.inputs.tsv\"):\n",
    "  df2.to_csv(\"./data/top1000/top1000.dev.inputs.tsv\", header=None, sep=\"\\t\", index=None)\n",
    "!echo \"== top1000.dev.inputs ==\"\n",
    "!head -n 2 data/top1000/top1000.dev.inputs.tsv"
   ]
  },
  {
   "cell_type": "code",
   "execution_count": 19,
   "metadata": {},
   "outputs": [
    {
     "name": "stdout",
     "output_type": "stream",
     "text": [
      "8841823\n"
     ]
    },
    {
     "data": {
      "text/html": [
       "<div>\n",
       "<style scoped>\n",
       "    .dataframe tbody tr th:only-of-type {\n",
       "        vertical-align: middle;\n",
       "    }\n",
       "\n",
       "    .dataframe tbody tr th {\n",
       "        vertical-align: top;\n",
       "    }\n",
       "\n",
       "    .dataframe thead th {\n",
       "        text-align: right;\n",
       "    }\n",
       "</style>\n",
       "<table border=\"1\" class=\"dataframe\">\n",
       "  <thead>\n",
       "    <tr style=\"text-align: right;\">\n",
       "      <th></th>\n",
       "      <th>passage</th>\n",
       "    </tr>\n",
       "  </thead>\n",
       "  <tbody>\n",
       "    <tr>\n",
       "      <th>0</th>\n",
       "      <td>The presence of communication amid scientific ...</td>\n",
       "    </tr>\n",
       "    <tr>\n",
       "      <th>1</th>\n",
       "      <td>The Manhattan Project and its atomic bomb help...</td>\n",
       "    </tr>\n",
       "    <tr>\n",
       "      <th>2</th>\n",
       "      <td>Essay on The Manhattan Project - The Manhattan...</td>\n",
       "    </tr>\n",
       "    <tr>\n",
       "      <th>3</th>\n",
       "      <td>The Manhattan Project was the name for a proje...</td>\n",
       "    </tr>\n",
       "    <tr>\n",
       "      <th>4</th>\n",
       "      <td>versions of each volume as well as complementa...</td>\n",
       "    </tr>\n",
       "    <tr>\n",
       "      <th>...</th>\n",
       "      <td>...</td>\n",
       "    </tr>\n",
       "    <tr>\n",
       "      <th>8841818</th>\n",
       "      <td>When metal salts emit short wavelengths of vis...</td>\n",
       "    </tr>\n",
       "    <tr>\n",
       "      <th>8841819</th>\n",
       "      <td>Thousands of people across the United States w...</td>\n",
       "    </tr>\n",
       "    <tr>\n",
       "      <th>8841820</th>\n",
       "      <td>The recipe that creates blue, for example, inc...</td>\n",
       "    </tr>\n",
       "    <tr>\n",
       "      <th>8841821</th>\n",
       "      <td>On Independence Days of yore, old-timey crowds...</td>\n",
       "    </tr>\n",
       "    <tr>\n",
       "      <th>8841822</th>\n",
       "      <td>View full size image. Behind the scenes of the...</td>\n",
       "    </tr>\n",
       "  </tbody>\n",
       "</table>\n",
       "<p>8841823 rows × 1 columns</p>\n",
       "</div>"
      ],
      "text/plain": [
       "                                                   passage\n",
       "0        The presence of communication amid scientific ...\n",
       "1        The Manhattan Project and its atomic bomb help...\n",
       "2        Essay on The Manhattan Project - The Manhattan...\n",
       "3        The Manhattan Project was the name for a proje...\n",
       "4        versions of each volume as well as complementa...\n",
       "...                                                    ...\n",
       "8841818  When metal salts emit short wavelengths of vis...\n",
       "8841819  Thousands of people across the United States w...\n",
       "8841820  The recipe that creates blue, for example, inc...\n",
       "8841821  On Independence Days of yore, old-timey crowds...\n",
       "8841822  View full size image. Behind the scenes of the...\n",
       "\n",
       "[8841823 rows x 1 columns]"
      ]
     },
     "execution_count": 19,
     "metadata": {},
     "output_type": "execute_result"
    }
   ],
   "source": [
    "print(f\"{len(collection)}\")\n",
    "collection"
   ]
  },
  {
   "cell_type": "code",
   "execution_count": 20,
   "metadata": {},
   "outputs": [
    {
     "name": "stdout",
     "output_type": "stream",
     "text": [
      "len(query_train)=808731 len(query_eval)=101092 len(query_dev)=101093\n"
     ]
    },
    {
     "data": {
      "text/html": [
       "<div>\n",
       "<style scoped>\n",
       "    .dataframe tbody tr th:only-of-type {\n",
       "        vertical-align: middle;\n",
       "    }\n",
       "\n",
       "    .dataframe tbody tr th {\n",
       "        vertical-align: top;\n",
       "    }\n",
       "\n",
       "    .dataframe thead th {\n",
       "        text-align: right;\n",
       "    }\n",
       "</style>\n",
       "<table border=\"1\" class=\"dataframe\">\n",
       "  <thead>\n",
       "    <tr style=\"text-align: right;\">\n",
       "      <th></th>\n",
       "      <th>query</th>\n",
       "    </tr>\n",
       "  </thead>\n",
       "  <tbody>\n",
       "    <tr>\n",
       "      <th>1048578</th>\n",
       "      <td>cost of endless pools/swim spa</td>\n",
       "    </tr>\n",
       "    <tr>\n",
       "      <th>1048579</th>\n",
       "      <td>what is pcnt</td>\n",
       "    </tr>\n",
       "    <tr>\n",
       "      <th>1048580</th>\n",
       "      <td>what is pcb waste</td>\n",
       "    </tr>\n",
       "    <tr>\n",
       "      <th>1048581</th>\n",
       "      <td>what is pbis?</td>\n",
       "    </tr>\n",
       "    <tr>\n",
       "      <th>1048582</th>\n",
       "      <td>what is paysky</td>\n",
       "    </tr>\n",
       "    <tr>\n",
       "      <th>...</th>\n",
       "      <td>...</td>\n",
       "    </tr>\n",
       "    <tr>\n",
       "      <th>480594</th>\n",
       "      <td>price of copper by ounce, pound</td>\n",
       "    </tr>\n",
       "    <tr>\n",
       "      <th>524271</th>\n",
       "      <td>trazodone for dogs side effects</td>\n",
       "    </tr>\n",
       "    <tr>\n",
       "      <th>1048565</th>\n",
       "      <td>who plays sebastian michaelis</td>\n",
       "    </tr>\n",
       "    <tr>\n",
       "      <th>1048570</th>\n",
       "      <td>what is pearls before swine?</td>\n",
       "    </tr>\n",
       "    <tr>\n",
       "      <th>524285</th>\n",
       "      <td>treadmill incline meaning</td>\n",
       "    </tr>\n",
       "  </tbody>\n",
       "</table>\n",
       "<p>101093 rows × 1 columns</p>\n",
       "</div>"
      ],
      "text/plain": [
       "                                   query\n",
       "1048578   cost of endless pools/swim spa\n",
       "1048579                     what is pcnt\n",
       "1048580                what is pcb waste\n",
       "1048581                    what is pbis?\n",
       "1048582                   what is paysky\n",
       "...                                  ...\n",
       "480594   price of copper by ounce, pound\n",
       "524271   trazodone for dogs side effects\n",
       "1048565    who plays sebastian michaelis\n",
       "1048570     what is pearls before swine?\n",
       "524285         treadmill incline meaning\n",
       "\n",
       "[101093 rows x 1 columns]"
      ]
     },
     "execution_count": 20,
     "metadata": {},
     "output_type": "execute_result"
    }
   ],
   "source": [
    "print(f\"{len(query_train)=} {len(query_eval)=} {len(query_dev)=}\")\n",
    "query_dev"
   ]
  },
  {
   "cell_type": "code",
   "execution_count": 26,
   "metadata": {},
   "outputs": [
    {
     "name": "stdout",
     "output_type": "stream",
     "text": [
      "len(top1000_dev)=6668967\n"
     ]
    },
    {
     "data": {
      "text/html": [
       "<div>\n",
       "<style scoped>\n",
       "    .dataframe tbody tr th:only-of-type {\n",
       "        vertical-align: middle;\n",
       "    }\n",
       "\n",
       "    .dataframe tbody tr th {\n",
       "        vertical-align: top;\n",
       "    }\n",
       "\n",
       "    .dataframe thead th {\n",
       "        text-align: right;\n",
       "    }\n",
       "</style>\n",
       "<table border=\"1\" class=\"dataframe\">\n",
       "  <thead>\n",
       "    <tr style=\"text-align: right;\">\n",
       "      <th></th>\n",
       "      <th>qid</th>\n",
       "      <th>pid</th>\n",
       "      <th>query</th>\n",
       "      <th>passage</th>\n",
       "    </tr>\n",
       "  </thead>\n",
       "  <tbody>\n",
       "    <tr>\n",
       "      <th>0</th>\n",
       "      <td>188714</td>\n",
       "      <td>1000052</td>\n",
       "      <td>foods and supplements to lower blood sugar</td>\n",
       "      <td>Watch portion sizes: ■ Even healthy foods will...</td>\n",
       "    </tr>\n",
       "    <tr>\n",
       "      <th>1</th>\n",
       "      <td>1082792</td>\n",
       "      <td>1000084</td>\n",
       "      <td>what does the golgi apparatus do to the protei...</td>\n",
       "      <td>Start studying Bonding, Carbs, Proteins, Lipid...</td>\n",
       "    </tr>\n",
       "    <tr>\n",
       "      <th>2</th>\n",
       "      <td>995526</td>\n",
       "      <td>1000094</td>\n",
       "      <td>where is the federal penitentiary in ind</td>\n",
       "      <td>It takes THOUSANDS of Macy's associates to bri...</td>\n",
       "    </tr>\n",
       "    <tr>\n",
       "      <th>3</th>\n",
       "      <td>199776</td>\n",
       "      <td>1000115</td>\n",
       "      <td>health benefits of eating vegetarian</td>\n",
       "      <td>The good news is that you will discover what g...</td>\n",
       "    </tr>\n",
       "    <tr>\n",
       "      <th>4</th>\n",
       "      <td>660957</td>\n",
       "      <td>1000115</td>\n",
       "      <td>what foods are good if you have gout?</td>\n",
       "      <td>The good news is that you will discover what g...</td>\n",
       "    </tr>\n",
       "    <tr>\n",
       "      <th>...</th>\n",
       "      <td>...</td>\n",
       "      <td>...</td>\n",
       "      <td>...</td>\n",
       "      <td>...</td>\n",
       "    </tr>\n",
       "    <tr>\n",
       "      <th>6668962</th>\n",
       "      <td>679360</td>\n",
       "      <td>999933</td>\n",
       "      <td>what is a corporate bylaws</td>\n",
       "      <td>Corporate Records for Nonprofit Corporations. ...</td>\n",
       "    </tr>\n",
       "    <tr>\n",
       "      <th>6668963</th>\n",
       "      <td>36388</td>\n",
       "      <td>999956</td>\n",
       "      <td>average family savings account</td>\n",
       "      <td>When it comes to average retirement savings st...</td>\n",
       "    </tr>\n",
       "    <tr>\n",
       "      <th>6668964</th>\n",
       "      <td>43781</td>\n",
       "      <td>999956</td>\n",
       "      <td>average savings per age group</td>\n",
       "      <td>When it comes to average retirement savings st...</td>\n",
       "    </tr>\n",
       "    <tr>\n",
       "      <th>6668965</th>\n",
       "      <td>28442</td>\n",
       "      <td>999956</td>\n",
       "      <td>at what age does the average person retire</td>\n",
       "      <td>When it comes to average retirement savings st...</td>\n",
       "    </tr>\n",
       "    <tr>\n",
       "      <th>6668966</th>\n",
       "      <td>36473</td>\n",
       "      <td>999956</td>\n",
       "      <td>average fifty year old retirement savings</td>\n",
       "      <td>When it comes to average retirement savings st...</td>\n",
       "    </tr>\n",
       "  </tbody>\n",
       "</table>\n",
       "<p>6668967 rows × 4 columns</p>\n",
       "</div>"
      ],
      "text/plain": [
       "             qid      pid                                              query  \\\n",
       "0         188714  1000052         foods and supplements to lower blood sugar   \n",
       "1        1082792  1000084  what does the golgi apparatus do to the protei...   \n",
       "2         995526  1000094           where is the federal penitentiary in ind   \n",
       "3         199776  1000115               health benefits of eating vegetarian   \n",
       "4         660957  1000115              what foods are good if you have gout?   \n",
       "...          ...      ...                                                ...   \n",
       "6668962   679360   999933                         what is a corporate bylaws   \n",
       "6668963    36388   999956                     average family savings account   \n",
       "6668964    43781   999956                      average savings per age group   \n",
       "6668965    28442   999956         at what age does the average person retire   \n",
       "6668966    36473   999956          average fifty year old retirement savings   \n",
       "\n",
       "                                                   passage  \n",
       "0        Watch portion sizes: ■ Even healthy foods will...  \n",
       "1        Start studying Bonding, Carbs, Proteins, Lipid...  \n",
       "2        It takes THOUSANDS of Macy's associates to bri...  \n",
       "3        The good news is that you will discover what g...  \n",
       "4        The good news is that you will discover what g...  \n",
       "...                                                    ...  \n",
       "6668962  Corporate Records for Nonprofit Corporations. ...  \n",
       "6668963  When it comes to average retirement savings st...  \n",
       "6668964  When it comes to average retirement savings st...  \n",
       "6668965  When it comes to average retirement savings st...  \n",
       "6668966  When it comes to average retirement savings st...  \n",
       "\n",
       "[6668967 rows x 4 columns]"
      ]
     },
     "execution_count": 26,
     "metadata": {},
     "output_type": "execute_result"
    }
   ],
   "source": [
    "print(f\"{len(top1000_dev)=}\")\n",
    "top1000_dev"
   ]
  },
  {
   "cell_type": "code",
   "execution_count": 8,
   "metadata": {},
   "outputs": [
    {
     "data": {
      "text/html": [
       "<div>\n",
       "<style scoped>\n",
       "    .dataframe tbody tr th:only-of-type {\n",
       "        vertical-align: middle;\n",
       "    }\n",
       "\n",
       "    .dataframe tbody tr th {\n",
       "        vertical-align: top;\n",
       "    }\n",
       "\n",
       "    .dataframe thead th {\n",
       "        text-align: right;\n",
       "    }\n",
       "</style>\n",
       "<table border=\"1\" class=\"dataframe\">\n",
       "  <thead>\n",
       "    <tr style=\"text-align: right;\">\n",
       "      <th></th>\n",
       "      <th>pid</th>\n",
       "      <th>query</th>\n",
       "      <th>passage</th>\n",
       "    </tr>\n",
       "    <tr>\n",
       "      <th>qid</th>\n",
       "      <th></th>\n",
       "      <th></th>\n",
       "      <th></th>\n",
       "    </tr>\n",
       "  </thead>\n",
       "  <tbody>\n",
       "    <tr>\n",
       "      <th>2</th>\n",
       "      <td>1000</td>\n",
       "      <td>1000</td>\n",
       "      <td>1000</td>\n",
       "    </tr>\n",
       "    <tr>\n",
       "      <th>1215</th>\n",
       "      <td>1000</td>\n",
       "      <td>1000</td>\n",
       "      <td>1000</td>\n",
       "    </tr>\n",
       "    <tr>\n",
       "      <th>1288</th>\n",
       "      <td>1000</td>\n",
       "      <td>1000</td>\n",
       "      <td>1000</td>\n",
       "    </tr>\n",
       "    <tr>\n",
       "      <th>1576</th>\n",
       "      <td>1000</td>\n",
       "      <td>1000</td>\n",
       "      <td>1000</td>\n",
       "    </tr>\n",
       "    <tr>\n",
       "      <th>2235</th>\n",
       "      <td>1000</td>\n",
       "      <td>1000</td>\n",
       "      <td>1000</td>\n",
       "    </tr>\n",
       "    <tr>\n",
       "      <th>...</th>\n",
       "      <td>...</td>\n",
       "      <td>...</td>\n",
       "      <td>...</td>\n",
       "    </tr>\n",
       "    <tr>\n",
       "      <th>1102335</th>\n",
       "      <td>1000</td>\n",
       "      <td>1000</td>\n",
       "      <td>1000</td>\n",
       "    </tr>\n",
       "    <tr>\n",
       "      <th>1102351</th>\n",
       "      <td>1000</td>\n",
       "      <td>1000</td>\n",
       "      <td>1000</td>\n",
       "    </tr>\n",
       "    <tr>\n",
       "      <th>1102390</th>\n",
       "      <td>1000</td>\n",
       "      <td>1000</td>\n",
       "      <td>1000</td>\n",
       "    </tr>\n",
       "    <tr>\n",
       "      <th>1102393</th>\n",
       "      <td>1000</td>\n",
       "      <td>1000</td>\n",
       "      <td>1000</td>\n",
       "    </tr>\n",
       "    <tr>\n",
       "      <th>1102400</th>\n",
       "      <td>1000</td>\n",
       "      <td>1000</td>\n",
       "      <td>1000</td>\n",
       "    </tr>\n",
       "  </tbody>\n",
       "</table>\n",
       "<p>6980 rows × 3 columns</p>\n",
       "</div>"
      ],
      "text/plain": [
       "          pid  query  passage\n",
       "qid                          \n",
       "2        1000   1000     1000\n",
       "1215     1000   1000     1000\n",
       "1288     1000   1000     1000\n",
       "1576     1000   1000     1000\n",
       "2235     1000   1000     1000\n",
       "...       ...    ...      ...\n",
       "1102335  1000   1000     1000\n",
       "1102351  1000   1000     1000\n",
       "1102390  1000   1000     1000\n",
       "1102393  1000   1000     1000\n",
       "1102400  1000   1000     1000\n",
       "\n",
       "[6980 rows x 3 columns]"
      ]
     },
     "execution_count": 8,
     "metadata": {},
     "output_type": "execute_result"
    }
   ],
   "source": [
    "top1000_dev.groupby(\"qid\").count()"
   ]
  },
  {
   "cell_type": "markdown",
   "metadata": {},
   "source": [
    "# Qrels"
   ]
  },
  {
   "cell_type": "code",
   "execution_count": 28,
   "metadata": {},
   "outputs": [
    {
     "name": "stdout",
     "output_type": "stream",
     "text": [
      "55578 55578\n"
     ]
    },
    {
     "data": {
      "text/html": [
       "<div>\n",
       "<style scoped>\n",
       "    .dataframe tbody tr th:only-of-type {\n",
       "        vertical-align: middle;\n",
       "    }\n",
       "\n",
       "    .dataframe tbody tr th {\n",
       "        vertical-align: top;\n",
       "    }\n",
       "\n",
       "    .dataframe thead th {\n",
       "        text-align: right;\n",
       "    }\n",
       "</style>\n",
       "<table border=\"1\" class=\"dataframe\">\n",
       "  <thead>\n",
       "    <tr style=\"text-align: right;\">\n",
       "      <th></th>\n",
       "      <th>qid</th>\n",
       "    </tr>\n",
       "  </thead>\n",
       "  <tbody>\n",
       "    <tr>\n",
       "      <th>0</th>\n",
       "      <td>1102432</td>\n",
       "    </tr>\n",
       "    <tr>\n",
       "      <th>1</th>\n",
       "      <td>1102431</td>\n",
       "    </tr>\n",
       "    <tr>\n",
       "      <th>2</th>\n",
       "      <td>1090282</td>\n",
       "    </tr>\n",
       "    <tr>\n",
       "      <th>3</th>\n",
       "      <td>39449</td>\n",
       "    </tr>\n",
       "    <tr>\n",
       "      <th>4</th>\n",
       "      <td>76162</td>\n",
       "    </tr>\n",
       "    <tr>\n",
       "      <th>...</th>\n",
       "      <td>...</td>\n",
       "    </tr>\n",
       "    <tr>\n",
       "      <th>55573</th>\n",
       "      <td>150337</td>\n",
       "    </tr>\n",
       "    <tr>\n",
       "      <th>55574</th>\n",
       "      <td>22241</td>\n",
       "    </tr>\n",
       "    <tr>\n",
       "      <th>55575</th>\n",
       "      <td>129177</td>\n",
       "    </tr>\n",
       "    <tr>\n",
       "      <th>55576</th>\n",
       "      <td>190655</td>\n",
       "    </tr>\n",
       "    <tr>\n",
       "      <th>55577</th>\n",
       "      <td>371455</td>\n",
       "    </tr>\n",
       "  </tbody>\n",
       "</table>\n",
       "<p>55578 rows × 1 columns</p>\n",
       "</div>"
      ],
      "text/plain": [
       "           qid\n",
       "0      1102432\n",
       "1      1102431\n",
       "2      1090282\n",
       "3        39449\n",
       "4        76162\n",
       "...        ...\n",
       "55573   150337\n",
       "55574    22241\n",
       "55575   129177\n",
       "55576   190655\n",
       "55577   371455\n",
       "\n",
       "[55578 rows x 1 columns]"
      ]
     },
     "execution_count": 28,
     "metadata": {},
     "output_type": "execute_result"
    }
   ],
   "source": [
    "qrels = pd.read_csv(\"./data/qrels/qrels.dev.tsv\", header=None, sep=\"\\t\", names=[\"qid\", \"iteration_num\", \"pid\", \"relevance\"])\n",
    "qrels_qids = qrels.drop_duplicates(subset=[\"qid\"]).filter(items=[\"qid\"]).reset_index(drop=True)\n",
    "print(len(qrels_qids), len(qrels[\"qid\"].unique()))\n",
    "qrels_qids"
   ]
  },
  {
   "cell_type": "code",
   "execution_count": 17,
   "metadata": {},
   "outputs": [
    {
     "name": "stdout",
     "output_type": "stream",
     "text": [
      "[1 3 2 6 5 4]\n",
      "55578\n"
     ]
    }
   ],
   "source": [
    "print(qrels.groupby(\"qid\").count()[\"relevance\"].unique())\n",
    "print(len(qrels[\"qid\"].unique()))"
   ]
  },
  {
   "cell_type": "code",
   "execution_count": 22,
   "metadata": {},
   "outputs": [],
   "source": [
    "query_dev = pd.read_csv(\"./data/queries/queries.dev.tsv\", header=None, sep=\"\\t\", index_col=0, names=[\"query\"])\n",
    "for qrel in qrels_qids:\n",
    "  assert qrel in query_dev.index"
   ]
  },
  {
   "cell_type": "code",
   "execution_count": 23,
   "metadata": {},
   "outputs": [
    {
     "ename": "AttributeError",
     "evalue": "'numpy.ndarray' object has no attribute 'join'",
     "output_type": "error",
     "traceback": [
      "\u001b[0;31m---------------------------------------------------------------------------\u001b[0m",
      "\u001b[0;31mAttributeError\u001b[0m                            Traceback (most recent call last)",
      "Cell \u001b[0;32mIn[23], line 1\u001b[0m\n\u001b[0;32m----> 1\u001b[0m \u001b[43mqrels_qids\u001b[49m\u001b[38;5;241;43m.\u001b[39;49m\u001b[43mjoin\u001b[49m\n",
      "\u001b[0;31mAttributeError\u001b[0m: 'numpy.ndarray' object has no attribute 'join'"
     ]
    }
   ],
   "source": [
    "qrels_qids.join"
   ]
  }
 ],
 "metadata": {
  "kernelspec": {
   "display_name": "mlsys",
   "language": "python",
   "name": "python3"
  },
  "language_info": {
   "codemirror_mode": {
    "name": "ipython",
    "version": 3
   },
   "file_extension": ".py",
   "mimetype": "text/x-python",
   "name": "python",
   "nbconvert_exporter": "python",
   "pygments_lexer": "ipython3",
   "version": "3.9.19"
  }
 },
 "nbformat": 4,
 "nbformat_minor": 2
}
