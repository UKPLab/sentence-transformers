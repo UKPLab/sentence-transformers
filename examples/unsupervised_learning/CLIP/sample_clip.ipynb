{
 "cells": [
  {
   "cell_type": "markdown",
   "metadata": {},
   "source": [
    "# Simple image training using CLIP model"
   ]
  },
  {
   "cell_type": "code",
   "execution_count": 1,
   "metadata": {},
   "outputs": [
    {
     "name": "stderr",
     "output_type": "stream",
     "text": [
      "/usr/local/lib/python3.10/dist-packages/tqdm/auto.py:21: TqdmWarning: IProgress not found. Please update jupyter and ipywidgets. See https://ipywidgets.readthedocs.io/en/stable/user_install.html\n",
      "  from .autonotebook import tqdm as notebook_tqdm\n"
     ]
    }
   ],
   "source": [
    "from pathlib import Path\n",
    "from PIL import Image\n",
    "from sentence_transformers import SentenceTransformer, losses, InputExample\n",
    "from torch.utils.data import DataLoader\n"
   ]
  },
  {
   "cell_type": "code",
   "execution_count": 6,
   "metadata": {},
   "outputs": [
    {
     "name": "stderr",
     "output_type": "stream",
     "text": [
      "`text_config_dict` is provided which will be used to initialize `CLIPTextConfig`. The value `text_config[\"id2label\"]` will be overriden.\n",
      "`text_config_dict` is provided which will be used to initialize `CLIPTextConfig`. The value `text_config[\"bos_token_id\"]` will be overriden.\n",
      "`text_config_dict` is provided which will be used to initialize `CLIPTextConfig`. The value `text_config[\"eos_token_id\"]` will be overriden.\n"
     ]
    }
   ],
   "source": [
    "# Load CLIP model\n",
    "model = SentenceTransformer('clip-ViT-L-14')"
   ]
  },
  {
   "cell_type": "code",
   "execution_count": 7,
   "metadata": {},
   "outputs": [],
   "source": [
    "# To make train dataset. \n",
    "# Here we create a dataset for a sample.\n",
    "# similar data (image1, image2, 1)\n",
    "# not similar data (image3, image4, 0)\n",
    "train_dataset = []\n",
    "\n",
    "dataset = [\n",
    "    (Path('./sample_data/test1.jpg'), Path('./sample_data/test2.jpg'), 1),\n",
    "    (Path('./sample_data/test3.jpg'), Path('./sample_data/test4.jpg'), 1),\n",
    "    (Path('./sample_data/test1.jpg'), Path('./sample_data/test3.jpg'), 0),\n",
    "    (Path('./sample_data/test2.jpg'), Path('./sample_data/test4.jpg'), 0),\n",
    "]\n",
    "\n",
    "for data in dataset:\n",
    "    traindata = InputExample(\n",
    "        texts=[Image.open(data[0]), Image.open(data[1])], label=data[2],\n",
    "    )\n",
    "    train_dataset.append(traindata)"
   ]
  },
  {
   "cell_type": "code",
   "execution_count": 8,
   "metadata": {},
   "outputs": [],
   "source": [
    "# To set Dataloader and Loss function.\n",
    "# Here we use ContrastiveLoss for loss function.\n",
    "\n",
    "train_dataloader = DataLoader(train_dataset, shuffle=True, batch_size=4)\n",
    "train_loss = losses.ContrastiveLoss(model=model)"
   ]
  },
  {
   "cell_type": "code",
   "execution_count": 9,
   "metadata": {},
   "outputs": [
    {
     "name": "stderr",
     "output_type": "stream",
     "text": [
      "Epoch:   0%|          | 0/5 [00:00<?, ?it/s]"
     ]
    },
    {
     "name": "stderr",
     "output_type": "stream",
     "text": [
      "Iteration: 100%|██████████| 1/1 [01:34<00:00, 94.56s/it]\n",
      "Iteration: 100%|██████████| 1/1 [01:29<00:00, 89.15s/it]\n",
      "Iteration: 100%|██████████| 1/1 [01:25<00:00, 85.29s/it]\n",
      "Iteration: 100%|██████████| 1/1 [01:30<00:00, 90.82s/it]\n",
      "Iteration: 100%|██████████| 1/1 [01:23<00:00, 83.46s/it]\n",
      "Epoch: 100%|██████████| 5/5 [07:23<00:00, 88.66s/it]\n"
     ]
    }
   ],
   "source": [
    "# To train.\n",
    "model.fit([(train_dataloader, train_loss)], epochs=5, show_progress_bar=True)"
   ]
  }
 ],
 "metadata": {
  "kernelspec": {
   "display_name": "Python 3",
   "language": "python",
   "name": "python3"
  },
  "language_info": {
   "codemirror_mode": {
    "name": "ipython",
    "version": 3
   },
   "file_extension": ".py",
   "mimetype": "text/x-python",
   "name": "python",
   "nbconvert_exporter": "python",
   "pygments_lexer": "ipython3",
   "version": "3.10.12"
  }
 },
 "nbformat": 4,
 "nbformat_minor": 2
}
